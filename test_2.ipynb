{
 "cells": [
  {
   "cell_type": "code",
   "execution_count": null,
   "id": "1d6a50840c0c3345",
   "metadata": {
    "ExecuteTime": {
     "end_time": "2024-06-21T08:15:04.429630Z",
     "start_time": "2024-06-21T08:15:04.332833Z"
    },
    "collapsed": false
   },
   "outputs": [],
   "source": [
    "from queue import Queue\n",
    "from threading import Thread\n",
    "from typing import Dict, List\n",
    "from PIL import Image\n",
    "import cv2\n",
    "import numpy as np\n",
    "\n",
    "import face_tool\n",
    "from face_model import FaceModel\n",
    "from fps_metric import FPS\n",
    "from scrfd import SCRFD\n",
    "from utils import check_in_out, get_data, maybe_create_folder, open_cam_usb\n",
    "# import mediapipe as mp\n",
    "import time\n",
    "from web_cam import WebcamVideoStream\n",
    "import glob"
   ]
  },
  {
   "cell_type": "code",
   "execution_count": 2,
   "id": "c8417d93",
   "metadata": {},
   "outputs": [
    {
     "name": "stdout",
     "output_type": "stream",
     "text": [
      "Requirement already satisfied: face_recognition in /Users/dominhtuan/anaconda3/envs/t/lib/python3.9/site-packages (1.3.0)\n",
      "Requirement already satisfied: face-recognition-models>=0.3.0 in /Users/dominhtuan/anaconda3/envs/t/lib/python3.9/site-packages (from face_recognition) (0.3.0)\n",
      "Requirement already satisfied: Click>=6.0 in /Users/dominhtuan/anaconda3/envs/t/lib/python3.9/site-packages (from face_recognition) (8.1.7)\n",
      "Requirement already satisfied: dlib>=19.7 in /Users/dominhtuan/anaconda3/envs/t/lib/python3.9/site-packages (from face_recognition) (19.24.4)\n",
      "Requirement already satisfied: numpy in /Users/dominhtuan/anaconda3/envs/t/lib/python3.9/site-packages (from face_recognition) (2.0.0)\n",
      "Requirement already satisfied: Pillow in /Users/dominhtuan/anaconda3/envs/t/lib/python3.9/site-packages (from face_recognition) (10.3.0)\n"
     ]
    }
   ],
   "source": [
    "!pip3 install face_recognition"
   ]
  },
  {
   "cell_type": "code",
   "execution_count": 1,
   "id": "6b60e123",
   "metadata": {},
   "outputs": [
    {
     "ename": "ImportError",
     "evalue": "dlopen(/Users/dominhtuan/Downloads/AnNinhSoiChieu/env/lib/python3.12/site-packages/_dlib_pybind11.cpython-312-darwin.so, 0x0002): tried: '/Users/dominhtuan/Downloads/AnNinhSoiChieu/env/lib/python3.12/site-packages/_dlib_pybind11.cpython-312-darwin.so' (mach-o file, but is an incompatible architecture (have (x86_64), need (arm64e)))",
     "output_type": "error",
     "traceback": [
      "\u001b[0;31m---------------------------------------------------------------------------\u001b[0m",
      "\u001b[0;31mImportError\u001b[0m                               Traceback (most recent call last)",
      "Cell \u001b[0;32mIn[1], line 1\u001b[0m\n\u001b[0;32m----> 1\u001b[0m \u001b[38;5;28;01mimport\u001b[39;00m \u001b[38;5;21;01mdlib\u001b[39;00m\n",
      "File \u001b[0;32m~/Downloads/AnNinhSoiChieu/env/lib/python3.12/site-packages/dlib/__init__.py:19\u001b[0m\n\u001b[1;32m     16\u001b[0m     add_lib_to_dll_path(\u001b[38;5;124m'\u001b[39m\u001b[38;5;124m'\u001b[39m)\n\u001b[1;32m     17\u001b[0m     add_lib_to_dll_path(\u001b[38;5;124m'\u001b[39m\u001b[38;5;124mCUDA_CUDART_LIBRARY-NOTFOUND\u001b[39m\u001b[38;5;124m'\u001b[39m)\n\u001b[0;32m---> 19\u001b[0m \u001b[38;5;28;01mfrom\u001b[39;00m \u001b[38;5;21;01m_dlib_pybind11\u001b[39;00m \u001b[38;5;28;01mimport\u001b[39;00m \u001b[38;5;241m*\u001b[39m\n\u001b[1;32m     20\u001b[0m \u001b[38;5;28;01mfrom\u001b[39;00m \u001b[38;5;21;01m_dlib_pybind11\u001b[39;00m \u001b[38;5;28;01mimport\u001b[39;00m __version__, __time_compiled__\n",
      "\u001b[0;31mImportError\u001b[0m: dlopen(/Users/dominhtuan/Downloads/AnNinhSoiChieu/env/lib/python3.12/site-packages/_dlib_pybind11.cpython-312-darwin.so, 0x0002): tried: '/Users/dominhtuan/Downloads/AnNinhSoiChieu/env/lib/python3.12/site-packages/_dlib_pybind11.cpython-312-darwin.so' (mach-o file, but is an incompatible architecture (have (x86_64), need (arm64e)))"
     ]
    }
   ],
   "source": [
    "import dlib"
   ]
  },
  {
   "cell_type": "code",
   "execution_count": 3,
   "id": "f4e751a5",
   "metadata": {},
   "outputs": [
    {
     "ename": "AttributeError",
     "evalue": "module 'dlib' has no attribute 'get_frontal_face_detector'",
     "output_type": "error",
     "traceback": [
      "\u001b[0;31m---------------------------------------------------------------------------\u001b[0m",
      "\u001b[0;31mAttributeError\u001b[0m                            Traceback (most recent call last)",
      "Cell \u001b[0;32mIn[3], line 1\u001b[0m\n\u001b[0;32m----> 1\u001b[0m \u001b[38;5;28;01mimport\u001b[39;00m \u001b[38;5;21;01mface_recognition\u001b[39;00m\n",
      "File \u001b[0;32m~/anaconda3/envs/t/lib/python3.9/site-packages/face_recognition/__init__.py:7\u001b[0m\n\u001b[1;32m      4\u001b[0m __email__ \u001b[38;5;241m=\u001b[39m \u001b[38;5;124m'\u001b[39m\u001b[38;5;124mageitgey@gmail.com\u001b[39m\u001b[38;5;124m'\u001b[39m\n\u001b[1;32m      5\u001b[0m __version__ \u001b[38;5;241m=\u001b[39m \u001b[38;5;124m'\u001b[39m\u001b[38;5;124m1.2.3\u001b[39m\u001b[38;5;124m'\u001b[39m\n\u001b[0;32m----> 7\u001b[0m \u001b[38;5;28;01mfrom\u001b[39;00m \u001b[38;5;21;01m.\u001b[39;00m\u001b[38;5;21;01mapi\u001b[39;00m \u001b[38;5;28;01mimport\u001b[39;00m load_image_file, face_locations, batch_face_locations, face_landmarks, face_encodings, compare_faces, face_distance\n",
      "File \u001b[0;32m~/anaconda3/envs/t/lib/python3.9/site-packages/face_recognition/api.py:17\u001b[0m\n\u001b[1;32m     13\u001b[0m     quit()\n\u001b[1;32m     15\u001b[0m ImageFile\u001b[38;5;241m.\u001b[39mLOAD_TRUNCATED_IMAGES \u001b[38;5;241m=\u001b[39m \u001b[38;5;28;01mTrue\u001b[39;00m\n\u001b[0;32m---> 17\u001b[0m face_detector \u001b[38;5;241m=\u001b[39m \u001b[43mdlib\u001b[49m\u001b[38;5;241;43m.\u001b[39;49m\u001b[43mget_frontal_face_detector\u001b[49m()\n\u001b[1;32m     19\u001b[0m predictor_68_point_model \u001b[38;5;241m=\u001b[39m face_recognition_models\u001b[38;5;241m.\u001b[39mpose_predictor_model_location()\n\u001b[1;32m     20\u001b[0m pose_predictor_68_point \u001b[38;5;241m=\u001b[39m dlib\u001b[38;5;241m.\u001b[39mshape_predictor(predictor_68_point_model)\n",
      "\u001b[0;31mAttributeError\u001b[0m: module 'dlib' has no attribute 'get_frontal_face_detector'"
     ]
    }
   ],
   "source": [
    "import face_recognition"
   ]
  },
  {
   "cell_type": "code",
   "execution_count": null,
   "id": "f75ada0d",
   "metadata": {},
   "outputs": [],
   "source": []
  },
  {
   "cell_type": "code",
   "execution_count": 8,
   "id": "dd494acad545d788",
   "metadata": {
    "ExecuteTime": {
     "end_time": "2024-06-21T08:15:04.645877Z",
     "start_time": "2024-06-21T08:15:04.357170Z"
    },
    "collapsed": false
   },
   "outputs": [
    {
     "name": "stderr",
     "output_type": "stream",
     "text": [
      "I0000 00:00:1718957704.329149 2297169 gl_context.cc:357] GL version: 2.1 (2.1 Metal - 76.3), renderer: Apple M1\n"
     ]
    }
   ],
   "source": [
    "mpFaceDetection = mp.solutions.face_detection \n",
    "mpDraw = mp.solutions.drawing_utils\n",
    "faceDetection = mpFaceDetection.FaceDetection()"
   ]
  },
  {
   "cell_type": "code",
   "execution_count": 9,
   "id": "1ae6ac7e36dc7af6",
   "metadata": {
    "ExecuteTime": {
     "end_time": "2024-06-21T08:15:04.796014Z",
     "start_time": "2024-06-21T08:15:04.392817Z"
    },
    "collapsed": false
   },
   "outputs": [
    {
     "name": "stderr",
     "output_type": "stream",
     "text": [
      "W0000 00:00:1718957704.331483 2307995 inference_feedback_manager.cc:114] Feedback manager requires a model with a single signature inference. Disabling support for feedback tensors.\n"
     ]
    }
   ],
   "source": [
    "face_detector = SCRFD(model_file='/Users/dominhtuan/Downloads/AnNinhSoiChieu/scrfd_10g_bnkps.onnx')\n",
    "face_model = FaceModel(onnx_model_path='/Users/dominhtuan/Downloads/AnNinhSoiChieu/webface_r50.onnx')\n",
    "\n",
    "width = 1280\n",
    "height = 720\n",
    "WINDOW_NAME = 'CameraCheckIn'"
   ]
  },
  {
   "cell_type": "code",
   "execution_count": 10,
   "id": "7950cf1bbad0d829",
   "metadata": {
    "ExecuteTime": {
     "end_time": "2024-06-21T08:15:04.797540Z",
     "start_time": "2024-06-21T08:15:04.654300Z"
    },
    "collapsed": false
   },
   "outputs": [],
   "source": [
    "def start_app(video_capture):\n",
    "    pTime = 0\n",
    "    frame_index = 0\n",
    "    face_step = 2\n",
    "    detect_step = 4\n",
    "    reset_step = 120\n",
    "\n",
    "    fps = FPS().start()\n",
    "    while True:\n",
    "        \n",
    "        \n",
    "        \n",
    "        # frame_index +=1\n",
    "        _, frame = video_capture.read()\n",
    "        flag = False\n",
    "        frame = cv2.flip(frame, 1)\n",
    "        face_list = []\n",
    "        name =\"Unknown\"\n",
    "        if frame_index % detect_step == 0:\n",
    "            rs = faceDetection.process(frame)\n",
    "            # face_boxes, kpss = face_detector.detect(frame)\n",
    "            # if face_boxes is not None:\n",
    "            #     face_boxes = face_boxes.astype(np.int32)\n",
    "            #     face_boxes = face_boxes[:, :4]\n",
    "            #     face_boxes = np.maximum(face_boxes, 0)\n",
    "            #     for (x1, y1, x2, y2) in face_boxes:\n",
    "            #         face_list.append((x1, y1, x2, y2))\n",
    "\n",
    "            if rs.detections:\n",
    "                for id, detection in enumerate(rs.detections):\n",
    "                    bboxC = detection.location_data.relative_bounding_box\n",
    "                    ih, iw, ic = frame.shape\n",
    "                    bbox = int(bboxC.xmin * iw), int(bboxC.ymin * ih), \\\n",
    "                            int(bboxC.width * iw), int(bboxC.height * ih),\n",
    "                    cv2.rectangle(frame, bbox, (255,0,255),2)\n",
    "            \n",
    "\n",
    "        cTime = time.time()\n",
    "        fps_new = 1 / (cTime - pTime)\n",
    "        pTime = cTime\n",
    "        cv2.putText(frame, f'FPS: {int(fps_new)}', (20,70), cv2.FONT_HERSHEY_PLAIN, 3 , (0,255,0),2)\n",
    "        \n",
    "        cv2.imshow(WINDOW_NAME, frame)\n",
    "        cv2.moveWindow(WINDOW_NAME, 0, 0)\n",
    "        fps.update()\n",
    "\n",
    "        if cv2.waitKey(1) & 0xFF == ord('q'):\n",
    "            break\n",
    "\n",
    "    fps.stop()"
   ]
  },
  {
   "cell_type": "code",
   "execution_count": 11,
   "id": "8ba609aaf9adb42c",
   "metadata": {
    "ExecuteTime": {
     "end_time": "2024-06-21T08:15:04.798279Z",
     "start_time": "2024-06-21T08:15:04.657506Z"
    },
    "collapsed": false
   },
   "outputs": [],
   "source": [
    "def open_window(width, height):\n",
    "    cv2.namedWindow(WINDOW_NAME, cv2.WINDOW_NORMAL)\n",
    "    cv2.resizeWindow(WINDOW_NAME, width, height)\n",
    "    cv2.moveWindow(WINDOW_NAME, 0, 0)\n",
    "    cv2.setWindowTitle(WINDOW_NAME, 'Camera Demo for Jetson Nano')"
   ]
  },
  {
   "cell_type": "code",
   "execution_count": 12,
   "id": "e8756c54b01cf679",
   "metadata": {
    "ExecuteTime": {
     "end_time": "2024-06-21T08:30:34.366072Z",
     "start_time": "2024-06-21T08:15:04.663152Z"
    },
    "collapsed": false
   },
   "outputs": [
    {
     "name": "stderr",
     "output_type": "stream",
     "text": [
      "/Users/dominhtuan/anaconda3/lib/python3.11/site-packages/google/protobuf/symbol_database.py:55: UserWarning: SymbolDatabase.GetPrototype() is deprecated. Please use message_factory.GetMessageClass() instead. SymbolDatabase.GetPrototype() will be removed soon.\n",
      "  warnings.warn('SymbolDatabase.GetPrototype() is deprecated. Please '\n"
     ]
    },
    {
     "ename": "KeyboardInterrupt",
     "evalue": "",
     "output_type": "error",
     "traceback": [
      "\u001b[0;31m---------------------------------------------------------------------------\u001b[0m",
      "\u001b[0;31mKeyboardInterrupt\u001b[0m                         Traceback (most recent call last)",
      "Cell \u001b[0;32mIn[12], line 4\u001b[0m\n\u001b[1;32m      1\u001b[0m video_capture \u001b[38;5;241m=\u001b[39m open_cam_usb(\u001b[38;5;241m1\u001b[39m)\n\u001b[1;32m      2\u001b[0m open_window(width, height)\n\u001b[0;32m----> 4\u001b[0m start_app(video_capture)\n\u001b[1;32m      6\u001b[0m video_capture\u001b[38;5;241m.\u001b[39mrelease()\n\u001b[1;32m      7\u001b[0m cv2\u001b[38;5;241m.\u001b[39mdestroyAllWindows()\n",
      "Cell \u001b[0;32mIn[10], line 47\u001b[0m, in \u001b[0;36mstart_app\u001b[0;34m(video_capture)\u001b[0m\n\u001b[1;32m     44\u001b[0m     cv2\u001b[38;5;241m.\u001b[39mmoveWindow(WINDOW_NAME, \u001b[38;5;241m0\u001b[39m, \u001b[38;5;241m0\u001b[39m)\n\u001b[1;32m     45\u001b[0m     fps\u001b[38;5;241m.\u001b[39mupdate()\n\u001b[0;32m---> 47\u001b[0m     \u001b[38;5;28;01mif\u001b[39;00m cv2\u001b[38;5;241m.\u001b[39mwaitKey(\u001b[38;5;241m1\u001b[39m) \u001b[38;5;241m&\u001b[39m \u001b[38;5;241m0xFF\u001b[39m \u001b[38;5;241m==\u001b[39m \u001b[38;5;28mord\u001b[39m(\u001b[38;5;124m'\u001b[39m\u001b[38;5;124mq\u001b[39m\u001b[38;5;124m'\u001b[39m):\n\u001b[1;32m     48\u001b[0m         \u001b[38;5;28;01mbreak\u001b[39;00m\n\u001b[1;32m     50\u001b[0m fps\u001b[38;5;241m.\u001b[39mstop()\n",
      "\u001b[0;31mKeyboardInterrupt\u001b[0m: "
     ]
    }
   ],
   "source": [
    "video_capture = open_cam_usb(1)\n",
    "open_window(width, height)\n",
    "\n",
    "start_app(video_capture)\n",
    "\n",
    "video_capture.release()\n",
    "cv2.destroyAllWindows()"
   ]
  }
 ],
 "metadata": {
  "kernelspec": {
   "display_name": "Python 3",
   "language": "python",
   "name": "python3"
  },
  "language_info": {
   "codemirror_mode": {
    "name": "ipython",
    "version": 3
   },
   "file_extension": ".py",
   "mimetype": "text/x-python",
   "name": "python",
   "nbconvert_exporter": "python",
   "pygments_lexer": "ipython3",
   "version": "3.12.4"
  }
 },
 "nbformat": 4,
 "nbformat_minor": 5
}
