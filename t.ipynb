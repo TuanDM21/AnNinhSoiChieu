{
 "cells": [
  {
   "cell_type": "code",
   "execution_count": 1,
   "id": "initial_id",
   "metadata": {
    "collapsed": true,
    "ExecuteTime": {
     "end_time": "2023-11-08T13:00:21.289730Z",
     "start_time": "2023-11-08T13:00:20.804485Z"
    }
   },
   "outputs": [
    {
     "name": "stderr",
     "output_type": "stream",
     "text": [
      "/Users/dominhtuan/anaconda3/lib/python3.11/site-packages/onnxruntime/capi/onnxruntime_inference_collection.py:69: UserWarning: Specified provider 'CUDAExecutionProvider' is not in available provider names.Available providers: 'AzureExecutionProvider, CPUExecutionProvider'\n",
      "  warnings.warn(\n"
     ]
    }
   ],
   "source": [
    "import argparse\n",
    "import concurrent.futures\n",
    "import logging\n",
    "import os\n",
    "from queue import Queue\n",
    "from threading import Thread\n",
    "from typing import Dict, List\n",
    "from PIL import Image\n",
    "import cv2\n",
    "import numpy as np\n",
    "\n",
    "import face_tool\n",
    "from face_model import FaceModel\n",
    "from fps_metric import FPS\n",
    "from scrfd import SCRFD\n",
    "from utils import check_in_out, get_data, maybe_create_folder, open_cam_usb\n",
    "from web_cam import WebcamVideoStream\n",
    "import glob"
   ]
  },
  {
   "cell_type": "code",
   "execution_count": 2,
   "outputs": [
    {
     "name": "stderr",
     "output_type": "stream",
     "text": [
      "/Users/dominhtuan/anaconda3/lib/python3.11/site-packages/onnxruntime/capi/onnxruntime_inference_collection.py:69: UserWarning: Specified provider 'CUDAExecutionProvider' is not in available provider names.Available providers: 'AzureExecutionProvider, CPUExecutionProvider'\n",
      "  warnings.warn(\n"
     ]
    }
   ],
   "source": [
    "face_detector = SCRFD(model_file='/Users/dominhtuan/Downloads/AnNinhSoiChieu/scrfd_10g_bnkps.onnx')\n",
    "face_model = FaceModel(onnx_model_path='/Users/dominhtuan/Downloads/AnNinhSoiChieu/webface_r50.onnx')\n",
    "\n",
    "width = 1280\n",
    "height = 720\n",
    "WINDOW_NAME = 'CameraCheckIn'"
   ],
   "metadata": {
    "collapsed": false,
    "ExecuteTime": {
     "end_time": "2023-11-08T13:00:21.447641Z",
     "start_time": "2023-11-08T13:00:21.318008Z"
    }
   },
   "id": "f74ca3436e73131d"
  },
  {
   "cell_type": "code",
   "execution_count": 3,
   "outputs": [],
   "source": [
    "import face_tool\n",
    "def get_vector_img(image,theshold_w=0.4,theshold_h=0.2):\n",
    "    face_boxes, kpss = face_detector.detect(image,theshold_w =theshold_w,theshold_h=theshold_h,thresh=0.2)\n",
    "    if face_boxes is not None:\n",
    "        face_boxes = face_boxes.astype(np.int32)\n",
    "        face_boxes = face_boxes[:, :4]\n",
    "        face_boxes = np.maximum(face_boxes, 0)\n",
    "    face_list = []\n",
    "    if face_boxes is not None:\n",
    "        for (x1, y1, x2, y2) in face_boxes:\n",
    "            face_list.append((x1, y1, x2, y2))\n",
    "        face_encoding = face_tool.face_encoding(image=image, kpss=kpss)\n",
    "    \n",
    "        return face_list,face_encoding\n",
    "    return None,None"
   ],
   "metadata": {
    "collapsed": false,
    "ExecuteTime": {
     "end_time": "2023-11-08T13:00:21.448179Z",
     "start_time": "2023-11-08T13:00:21.443416Z"
    }
   },
   "id": "ed0acee4ba2d9ce0"
  },
  {
   "cell_type": "code",
   "execution_count": 4,
   "outputs": [],
   "source": [
    "image_cc = cv2.imread(\"/Users/dominhtuan/Downloads/anhcccdtinh.jpg\")\n",
    "face_list,face_encoding_cc = get_vector_img(image_cc,theshold_w=0.05,theshold_h=0.05)"
   ],
   "metadata": {
    "collapsed": false,
    "ExecuteTime": {
     "end_time": "2023-11-08T13:00:21.650926Z",
     "start_time": "2023-11-08T13:00:21.446909Z"
    }
   },
   "id": "2c6f1bfb2f812147"
  },
  {
   "cell_type": "markdown",
   "source": [],
   "metadata": {
    "collapsed": false
   },
   "id": "1ba957622ade266e"
  },
  {
   "cell_type": "code",
   "execution_count": 5,
   "outputs": [],
   "source": [
    "def open_window(width, height):\n",
    "    cv2.namedWindow(WINDOW_NAME, cv2.WINDOW_NORMAL)\n",
    "    cv2.resizeWindow(WINDOW_NAME, width, height)\n",
    "    cv2.moveWindow(WINDOW_NAME, 0, 0)\n",
    "    cv2.setWindowTitle(WINDOW_NAME, 'Camera Demo for Jetson Nano')\n",
    "\n",
    "def recognize_face(                                                                    \n",
    "    image: np.ndarray,                                                                 \n",
    "    kpss: np.ndarray,                                                                  \n",
    "    known_faces: List[np.ndarray],                                                                                                                       \n",
    ") -> List[str]:                                                                        \n",
    "    face_encodings = face_tool.face_encoding(image=image, kpss=kpss)                   \n",
    "    face_names = []                                                                    \n",
    "                                                                                       \n",
    "    # Face recognition                                                                 \n",
    "    for face_encoding in face_encodings:                                               \n",
    "        matches = face_tool.compare_faces(known_faces, face_encoding, tolerance=0.6)   \n",
    "        face_distances = face_tool.face_distance(known_faces, face_encoding)                                         \n",
    "        best_idx = np.argmin(face_distances)                                           \n",
    "        name = \"Unknown\"                                                               \n",
    "        if matches[best_idx]:                                                          \n",
    "            name = \"MR.KI\"                                                \n",
    "                                                                      \n",
    "        if name == \"Unknown\":                                                          \n",
    "            face_names.append(\"Unknown\")                                               \n",
    "        else:                                                                                    \n",
    "            face_names.append(name)                                                                                   \n",
    "    return face_names                                                                  \n",
    "\n",
    "def worker(input_q: Queue, output_q: Queue,known_faces):\n",
    "    while True:\n",
    "        frame, kpss = input_q.get()\n",
    "        names = recognize_face(     \n",
    "                image=frame,            \n",
    "                kpss=kpss,              \n",
    "                known_faces=known_faces\n",
    "            )                           \n",
    "        output = {\"names\": names}\n",
    "        output_q.put(output)\n",
    "\n",
    "def start_app(video_capture):\n",
    "    frame_index = 0\n",
    "    face_step = 30\n",
    "    detect_step = 15\n",
    "    reset_step = 120\n",
    "\n",
    "    input_q = Queue(2)  # fps is better if queue is higher but then more lags\n",
    "    output_q = Queue()\n",
    "    for i in range(1):\n",
    "        t = Thread(target=worker, args=(input_q, output_q,face_encoding_cc))\n",
    "        t.daemon = True\n",
    "        t.start()\n",
    "\n",
    "    fps = FPS().start()\n",
    "    while True:\n",
    "        _, frame = video_capture.read()\n",
    "        flag = False\n",
    "        frame = cv2.flip(frame, 1)\n",
    "        face_list = []\n",
    "        name =\"Unknown\"\n",
    "        if frame_index % detect_step == 0:\n",
    "            face_boxes, kpss = face_detector.detect(frame)\n",
    "            if face_boxes is not None:\n",
    "                face_boxes = face_boxes.astype(np.int32)\n",
    "                face_boxes = face_boxes[:, :4]\n",
    "                face_boxes = np.maximum(face_boxes, 0)\n",
    "                for (x1, y1, x2, y2) in face_boxes:\n",
    "                    face_list.append((x1, y1, x2, y2))\n",
    "                    img_save = frame[y1:y2,x1:x2]\n",
    "                    number_of_images = len(glob.glob('/Users/dominhtuan/Downloads/AnNinhSoiChieu/image_save/*'))\n",
    "                    if  number_of_images < 4:\n",
    "                        cv2.imwrite(f'image_save/output_image_{number_of_images +1}.jpg', img_save)\n",
    "            if kpss is not None and frame_index % face_step == 0:\n",
    "                if not input_q.full():\n",
    "                    input_q.put((frame, kpss))\n",
    "\n",
    "        if output_q.empty():\n",
    "            pass  # fill up queue\n",
    "        else:\n",
    "            data = output_q.get()\n",
    "            face_names = data['names']\n",
    "            name = face_names[-1]\n",
    "        if frame_index % (reset_step * 10) == 0:\n",
    "            checked_name = {}\n",
    "            frame_index = 0\n",
    "\n",
    "        font = cv2.FONT_HERSHEY_COMPLEX\n",
    "\n",
    "        for (x1, y1, x2, y2) in face_list:\n",
    "            top = y1\n",
    "            bottom = y2\n",
    "            left = x1\n",
    "            right = x2\n",
    "            if name != \"Unknown\":                                                                                                                  \n",
    "                cv2.rectangle(frame, (left, top), (right, bottom), (0, 255, 0), 2)                              \n",
    "                cv2.rectangle(frame, (left, bottom - 35), (right, bottom), (0, 255, 0), cv2.FILLED)             \n",
    "                cv2.putText(frame, \"{}\".format(name), (left + 6, bottom - 6), font, 1.0, (255, 255, 255), 1)    \n",
    "            else:                                                                                               \n",
    "                cv2.rectangle(frame, (left, top), (right, bottom), (0, 0, 255), 2)                              \n",
    "                cv2.rectangle(frame, (left, bottom - 35), (right, bottom), (0, 0, 255), cv2.FILLED)             \n",
    "                if name == \"Unknown\":                                                                           \n",
    "                    cv2.putText(frame, \"Unknown\", (left + 6, bottom - 6), font, 1.0, (255, 255, 255), 1)        \n",
    "                else:                                                                                           \n",
    "                    cv2.putText(frame, \"{}\".format(name), (left + 6, bottom - 6), font, 1.0, (255, 255, 255), 1)\n",
    "\n",
    "\n",
    "        cv2.imshow(WINDOW_NAME, frame)\n",
    "        cv2.moveWindow(WINDOW_NAME, 0, 0)\n",
    "        fps.update()\n",
    "\n",
    "        if cv2.waitKey(1) & 0xFF == ord('q'):\n",
    "            break\n",
    "\n",
    "    fps.stop()"
   ],
   "metadata": {
    "collapsed": false,
    "ExecuteTime": {
     "end_time": "2023-11-08T13:00:21.660579Z",
     "start_time": "2023-11-08T13:00:21.651157Z"
    }
   },
   "id": "1cddeb74de33ef7e"
  },
  {
   "cell_type": "code",
   "execution_count": null,
   "outputs": [],
   "source": [
    "video_capture = open_cam_usb(0)\n",
    "open_window(width, height)\n",
    "\n",
    "start_app(video_capture)\n",
    "\n",
    "video_capture.release()\n",
    "cv2.destroyAllWindows()"
   ],
   "metadata": {
    "collapsed": false,
    "is_executing": true,
    "ExecuteTime": {
     "start_time": "2023-11-08T13:00:21.661351Z"
    }
   },
   "id": "ccd2c6c3fecbf679"
  },
  {
   "cell_type": "code",
   "execution_count": null,
   "outputs": [],
   "source": [],
   "metadata": {
    "collapsed": false,
    "is_executing": true
   },
   "id": "1bff7f9ae2ab8803"
  }
 ],
 "metadata": {
  "kernelspec": {
   "display_name": "Python 3",
   "language": "python",
   "name": "python3"
  },
  "language_info": {
   "codemirror_mode": {
    "name": "ipython",
    "version": 2
   },
   "file_extension": ".py",
   "mimetype": "text/x-python",
   "name": "python",
   "nbconvert_exporter": "python",
   "pygments_lexer": "ipython2",
   "version": "2.7.6"
  }
 },
 "nbformat": 4,
 "nbformat_minor": 5
}
