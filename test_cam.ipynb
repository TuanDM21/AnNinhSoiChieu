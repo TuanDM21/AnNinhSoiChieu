{
 "cells": [
  {
   "cell_type": "code",
   "execution_count": 1,
   "outputs": [
    {
     "name": "stdout",
     "output_type": "stream",
     "text": [
      "Starting Camera 1Starting Camera 2\n",
      "\n",
      "\n",
      "Active threads 10\n"
     ]
    },
    {
     "name": "stderr",
     "output_type": "stream",
     "text": [
      "/var/folders/7m/v4lrhyhx04nd5752lmpf0mb80000gn/T/ipykernel_12790/1974102030.py:36: DeprecationWarning: activeCount() is deprecated, use active_count() instead\n",
      "  print(\"Active threads\", threading.activeCount())\n"
     ]
    }
   ],
   "source": [
    "import cv2\n",
    "import threading\n",
    "\n",
    "class camThread(threading.Thread):\n",
    "    def __init__(self, previewName, camID):\n",
    "        threading.Thread.__init__(self)\n",
    "        self.previewName = previewName\n",
    "        self.camID = camID\n",
    "    def run(self):\n",
    "        print(\"Starting \" + self.previewName)\n",
    "        camPreview(self.previewName, self.camID)\n",
    "\n",
    "def camPreview(previewName, camID):\n",
    "    cv2.namedWindow(previewName)\n",
    "    cam = cv2.VideoCapture(camID)\n",
    "    if cam.isOpened():\n",
    "        rval, frame = cam.read()\n",
    "    else:\n",
    "        rval = False\n",
    "\n",
    "    while rval:\n",
    "        cv2.imshow(previewName, frame)\n",
    "        rval, frame = cam.read()\n",
    "        key = cv2.waitKey(20)\n",
    "        if key == 27:  # exit on ESC\n",
    "            break\n",
    "    cv2.destroyWindow(previewName)\n",
    "\n",
    "# Create threads as follows\n",
    "thread1 = camThread(\"Camera 1\", 0)\n",
    "thread2 = camThread(\"Camera 2\", 1)\n",
    "\n",
    "thread1.start()\n",
    "thread2.start()\n",
    "print()\n",
    "print(\"Active threads\", threading.activeCount())"
   ],
   "metadata": {
    "collapsed": false,
    "ExecuteTime": {
     "end_time": "2023-12-25T07:11:01.725716Z",
     "start_time": "2023-12-25T07:11:00.050938Z"
    }
   },
   "id": "355d2b80ac3c72e4"
  },
  {
   "cell_type": "code",
   "execution_count": null,
   "outputs": [],
   "source": [],
   "metadata": {
    "collapsed": false
   },
   "id": "1966bd209ee72219"
  }
 ],
 "metadata": {
  "kernelspec": {
   "display_name": "Python 3",
   "language": "python",
   "name": "python3"
  },
  "language_info": {
   "codemirror_mode": {
    "name": "ipython",
    "version": 2
   },
   "file_extension": ".py",
   "mimetype": "text/x-python",
   "name": "python",
   "nbconvert_exporter": "python",
   "pygments_lexer": "ipython2",
   "version": "2.7.6"
  }
 },
 "nbformat": 4,
 "nbformat_minor": 5
}
