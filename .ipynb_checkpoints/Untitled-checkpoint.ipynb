{
 "cells": [
  {
   "cell_type": "raw",
   "source": [],
   "metadata": {
    "collapsed": false
   },
   "id": "bac82cc17cc85347"
  }
 ],
 "metadata": {},
 "nbformat": 4,
 "nbformat_minor": 5
}
