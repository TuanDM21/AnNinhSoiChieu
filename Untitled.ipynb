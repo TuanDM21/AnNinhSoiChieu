{
 "cells": [
  {
   "cell_type": "code",
   "execution_count": 1,
   "id": "38d26d6c",
   "metadata": {},
   "outputs": [
    {
     "name": "stderr",
     "output_type": "stream",
     "text": [
      "/Users/dominhtuan/anaconda3/lib/python3.11/site-packages/onnxruntime/capi/onnxruntime_inference_collection.py:69: UserWarning: Specified provider 'CUDAExecutionProvider' is not in available provider names.Available providers: 'AzureExecutionProvider, CPUExecutionProvider'\n",
      "  warnings.warn(\n"
     ]
    }
   ],
   "source": [
    "import argparse\n",
    "import concurrent.futures\n",
    "import logging\n",
    "import os\n",
    "from queue import Queue\n",
    "from threading import Thread\n",
    "from typing import Dict, List\n",
    "\n",
    "import cv2\n",
    "import numpy as np\n",
    "\n",
    "import face_tool\n",
    "from face_model import FaceModel\n",
    "from fps_metric import FPS\n",
    "from scrfd import SCRFD\n",
    "from utils import check_in_out, get_data, maybe_create_folder, open_cam_usb\n",
    "from web_cam import WebcamVideoStream"
   ]
  },
  {
   "cell_type": "code",
   "execution_count": null,
   "id": "3aa95b58",
   "metadata": {},
   "outputs": [],
   "source": []
  }
 ],
 "metadata": {
  "kernelspec": {
   "display_name": "Python 3 (ipykernel)",
   "language": "python",
   "name": "python3"
  },
  "language_info": {
   "codemirror_mode": {
    "name": "ipython",
    "version": 3
   },
   "file_extension": ".py",
   "mimetype": "text/x-python",
   "name": "python",
   "nbconvert_exporter": "python",
   "pygments_lexer": "ipython3",
   "version": "3.11.5"
  }
 },
 "nbformat": 4,
 "nbformat_minor": 5
}
