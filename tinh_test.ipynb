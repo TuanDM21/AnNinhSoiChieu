{
 "cells": [
  {
   "cell_type": "code",
   "execution_count": 1,
   "id": "initial_id",
   "metadata": {
    "collapsed": true,
    "ExecuteTime": {
     "end_time": "2024-06-21T08:04:13.574707Z",
     "start_time": "2024-06-21T08:04:12.751895Z"
    }
   },
   "outputs": [
    {
     "name": "stderr",
     "output_type": "stream",
     "text": [
      "/Users/dominhtuan/anaconda3/lib/python3.11/site-packages/onnxruntime/capi/onnxruntime_inference_collection.py:69: UserWarning: Specified provider 'CUDAExecutionProvider' is not in available provider names.Available providers: 'AzureExecutionProvider, CPUExecutionProvider'\n",
      "  warnings.warn(\n"
     ]
    }
   ],
   "source": [
    "from queue import Queue\n",
    "from threading import Thread\n",
    "from typing import Dict, List\n",
    "from PIL import Image\n",
    "import cv2\n",
    "import numpy as np\n",
    "\n",
    "import face_tool\n",
    "from face_model import FaceModel\n",
    "from fps_metric import FPS\n",
    "from scrfd import SCRFD\n",
    "import time\n",
    "from utils import check_in_out, get_data, maybe_create_folder, open_cam_usb\n",
    "from web_cam import WebcamVideoStream\n",
    "import glob"
   ]
  },
  {
   "cell_type": "code",
   "execution_count": 2,
   "outputs": [
    {
     "name": "stderr",
     "output_type": "stream",
     "text": [
      "/Users/dominhtuan/anaconda3/lib/python3.11/site-packages/onnxruntime/capi/onnxruntime_inference_collection.py:69: UserWarning: Specified provider 'CUDAExecutionProvider' is not in available provider names.Available providers: 'AzureExecutionProvider, CPUExecutionProvider'\n",
      "  warnings.warn(\n"
     ]
    }
   ],
   "source": [
    "face_detector = SCRFD(model_file='/Users/dominhtuan/Downloads/AnNinhSoiChieu/scrfd_10g_bnkps.onnx')\n",
    "face_model = FaceModel(onnx_model_path='/Users/dominhtuan/Downloads/AnNinhSoiChieu/webface_r50.onnx')\n",
    "\n",
    "width = 1280\n",
    "height = 720\n",
    "WINDOW_NAME = 'CameraCheckIn'"
   ],
   "metadata": {
    "collapsed": false,
    "ExecuteTime": {
     "end_time": "2024-06-21T08:04:13.803991Z",
     "start_time": "2024-06-21T08:04:13.599910Z"
    }
   },
   "id": "59b918e0a36c541f"
  },
  {
   "cell_type": "code",
   "execution_count": 3,
   "outputs": [],
   "source": [
    "import face_tool\n",
    "def get_vector_img(image,theshold_w=0.4,theshold_h=0.2):\n",
    "    face_boxes, kpss = face_detector.detect(image,theshold_w =theshold_w,theshold_h=theshold_h,thresh=0.2)\n",
    "    if face_boxes is not None:\n",
    "        face_boxes = face_boxes.astype(np.int32)\n",
    "        face_boxes = face_boxes[:, :4]\n",
    "        face_boxes = np.maximum(face_boxes, 0)\n",
    "    face_list = []\n",
    "    if face_boxes is not None:\n",
    "        for (x1, y1, x2, y2) in face_boxes:\n",
    "            face_list.append((x1, y1, x2, y2))\n",
    "        face_encoding = face_tool.face_encoding(image=image, kpss=kpss)\n",
    "    \n",
    "        return face_list,face_encoding\n",
    "    return None,None"
   ],
   "metadata": {
    "collapsed": false,
    "ExecuteTime": {
     "end_time": "2024-06-21T08:04:13.807648Z",
     "start_time": "2024-06-21T08:04:13.742550Z"
    }
   },
   "id": "57eec59c82d30c6a"
  },
  {
   "cell_type": "code",
   "execution_count": null,
   "outputs": [],
   "source": [
    "!pip3 install deep"
   ],
   "metadata": {
    "collapsed": false
   },
   "id": "29fc27fa8295e4f5"
  },
  {
   "cell_type": "code",
   "execution_count": 4,
   "outputs": [],
   "source": [
    "image_cc = cv2.imread(\"/Users/dominhtuan/Downloads/anhcccdtinh.jpg\")\n",
    "face_list,face_encoding_cc = get_vector_img(image_cc,theshold_w=0.05,theshold_h=0.05)"
   ],
   "metadata": {
    "collapsed": false,
    "ExecuteTime": {
     "end_time": "2024-06-21T08:04:14.103663Z",
     "start_time": "2024-06-21T08:04:13.746307Z"
    }
   },
   "id": "1dec0c988958294a"
  },
  {
   "cell_type": "code",
   "execution_count": 5,
   "outputs": [],
   "source": [
    "def recognize_face(                                                                    \n",
    "    image: np.ndarray,                                                                 \n",
    "    kpss: np.ndarray,                                                                  \n",
    "    known_faces: List[np.ndarray],                                                                                                                       \n",
    ") -> List[str]:                                                                        \n",
    "    face_encodings = face_tool.face_encoding(image=image, kpss=kpss)                   \n",
    "    face_names = []                                                                    \n",
    "                                                                                       \n",
    "    # Face recognition                                                                 \n",
    "    for face_encoding in face_encodings:                                               \n",
    "        matches = face_tool.compare_faces(known_faces, face_encoding, tolerance=0.6)   \n",
    "        face_distances = face_tool.face_distance(known_faces, face_encoding)                                   \n",
    "        best_idx = np.argmin(face_distances)                                           \n",
    "        name = \"Unknown\"                                                               \n",
    "        if matches[best_idx]:                                                          \n",
    "            name = \"MR.KI\"                                                \n",
    "                                                                      \n",
    "        if name == \"Unknown\":                                                          \n",
    "            face_names.append(\"Unknown\")                                               \n",
    "        else:                                                                                    \n",
    "            face_names.append(name)                                                                                   \n",
    "    return face_names  "
   ],
   "metadata": {
    "collapsed": false,
    "ExecuteTime": {
     "end_time": "2024-06-21T08:04:14.117362Z",
     "start_time": "2024-06-21T08:04:14.104784Z"
    }
   },
   "id": "bc5a9eef3c205637"
  },
  {
   "cell_type": "code",
   "execution_count": 6,
   "outputs": [],
   "source": [
    "def worker(input_q: Queue, output_q: Queue,known_faces):\n",
    "    while True:\n",
    "        frame, kpss = input_q.get()\n",
    "        names = recognize_face(     \n",
    "                image=frame,            \n",
    "                kpss=kpss,              \n",
    "                known_faces=known_faces\n",
    "            )                           \n",
    "        output = {\"names\": names}\n",
    "        output_q.put(output)"
   ],
   "metadata": {
    "collapsed": false,
    "ExecuteTime": {
     "end_time": "2024-06-21T08:04:14.117869Z",
     "start_time": "2024-06-21T08:04:14.108629Z"
    }
   },
   "id": "8d483eac31276870"
  },
  {
   "cell_type": "code",
   "execution_count": 7,
   "outputs": [],
   "source": [
    "def start_app(video_capture):\n",
    "    # Load biometric data\n",
    "    known_faces = []\n",
    "    name_faces = []\n",
    "    face_dict = {}\n",
    "    # known_faces, name_faces, face_dicict = load_data(known_faces, name_faces, face_dict)\n",
    "\n",
    "    input_q = Queue(2)  # fps is better if queue is higher but then more lags\n",
    "    output_q = Queue()\n",
    "    for i in range(1):\n",
    "        t = Thread(target=worker, args=(input_q, output_q,face_encoding_cc))\n",
    "        t.daemon = True\n",
    "        t.start()\n",
    "\n",
    "    fps = FPS().start()\n",
    "    pTime = 0\n",
    "    frame_index = 0\n",
    "    face_step =30\n",
    "    detect_step = 2\n",
    "    reset_step = 120\n",
    "    r = {}\n",
    "    checked_name = {}\n",
    "    name = \"Unknown\"\n",
    "    while True:\n",
    "        frame_index += 1\n",
    "        _, frame = video_capture.read()\n",
    "        frame = cv2.flip(frame, 1)\n",
    "        face_list = []\n",
    "        if frame_index % detect_step == 0:\n",
    "            face_boxes, kpss = face_detector.detect(frame)\n",
    "            if face_boxes is not None:\n",
    "                face_boxes = face_boxes.astype(np.int32)\n",
    "                face_boxes = face_boxes[:, :4]\n",
    "                face_boxes = np.maximum(face_boxes, 0)\n",
    "                for (x1, y1, x2, y2) in face_boxes:\n",
    "                    face_list.append((x1, y1, x2, y2))\n",
    "                    # pass\n",
    "\n",
    "            if kpss is not None and frame_index % face_step == 0:\n",
    "                if not input_q.full():\n",
    "                    input_q.put((frame, kpss))\n",
    "\n",
    "        if output_q.empty():\n",
    "            pass  # fill up queue\n",
    "        else:\n",
    "           pass\n",
    "        if frame_index % reset_step == 0:\n",
    "            name = \"Unknown\"\n",
    "\n",
    "        if frame_index % (reset_step * 10) == 0:\n",
    "            checked_name = {}\n",
    "            frame_index = 0\n",
    "\n",
    "        font = cv2.FONT_HERSHEY_COMPLEX\n",
    "\n",
    "        for (x1, y1, x2, y2) in face_list:\n",
    "            top = y1\n",
    "            bottom = y2\n",
    "            left = x1\n",
    "            right = x2\n",
    "            if name != \"Unknown\":\n",
    "                checked_name[name] = True\n",
    "                cv2.rectangle(frame, (left, top), (right, bottom), (0, 255, 0), 2)\n",
    "                cv2.rectangle(frame, (left, bottom - 35), (right, bottom), (0, 255, 0), cv2.FILLED)\n",
    "                cv2.putText(frame, \"{}\".format(name), (left + 6, bottom - 6), font, 1.0, (255, 255, 255), 1)\n",
    "            else:\n",
    "                cv2.rectangle(frame, (left, top), (right, bottom), (0, 0, 255), 2)\n",
    "                cv2.rectangle(frame, (left, bottom - 35), (right, bottom), (0, 0, 255), cv2.FILLED)\n",
    "                if name == \"Unknown\":\n",
    "                    cv2.putText(frame, \"Unknown\", (left + 6, bottom - 6), font, 1.0, (255, 255, 255), 1)\n",
    "                else:\n",
    "                    cv2.putText(frame, \"{}\".format(name), (left + 6, bottom - 6), font, 1.0, (255, 255, 255), 1)\n",
    "\n",
    "        if r.get('success', False) and name != \"Unknown\":\n",
    "            checked_name[name] = True\n",
    "            cv2.putText(frame, \"Da Diem Danh - {}\".format(name), (50, 50), font, 1.5, (0, 255, 0), 2)\n",
    "        else:\n",
    "            if name == \"Unknown\":\n",
    "                cv2.putText(frame, \"Unknown\", (50, 50), font, 1.5, (0, 0, 255), 2)\n",
    "            else:\n",
    "                cv2.putText(frame, \"Da Diem Danh - {}\".format(name), (50, 50), font, 1.5, (0, 0, 255), 2)\n",
    "        \n",
    "        cTime = time.time()\n",
    "        fps_new = 1 / (cTime - pTime)\n",
    "        pTime = cTime\n",
    "        cv2.putText(frame, f'FPS: {int(fps_new)}', (20,70), cv2.FONT_HERSHEY_PLAIN, 3 , (0,255,0),2)\n",
    "        \n",
    "        cv2.imshow(WINDOW_NAME, frame)\n",
    "        cv2.moveWindow(WINDOW_NAME, 0, 0)\n",
    "        fps.update()\n",
    "\n",
    "        if cv2.waitKey(1) & 0xFF == ord('q'):\n",
    "            break\n",
    "\n",
    "    fps.stop()"
   ],
   "metadata": {
    "collapsed": false,
    "ExecuteTime": {
     "end_time": "2024-06-21T08:04:14.120446Z",
     "start_time": "2024-06-21T08:04:14.118072Z"
    }
   },
   "id": "866ba610940ea575"
  },
  {
   "cell_type": "code",
   "execution_count": 8,
   "outputs": [],
   "source": [
    "def open_window(width, height):\n",
    "    cv2.namedWindow(WINDOW_NAME, cv2.WINDOW_NORMAL)\n",
    "    cv2.resizeWindow(WINDOW_NAME, width, height)\n",
    "    cv2.moveWindow(WINDOW_NAME, 0, 0)\n",
    "    cv2.setWindowTitle(WINDOW_NAME, 'Camera Demo for Jetson Nano')"
   ],
   "metadata": {
    "collapsed": false,
    "ExecuteTime": {
     "end_time": "2024-06-21T08:04:14.133515Z",
     "start_time": "2024-06-21T08:04:14.121684Z"
    }
   },
   "id": "946666ad9f245bc8"
  },
  {
   "cell_type": "code",
   "execution_count": 9,
   "outputs": [],
   "source": [
    "video_capture = open_cam_usb(1)\n",
    "open_window(width, height)\n",
    "\n",
    "start_app(video_capture)\n",
    "\n",
    "video_capture.release()\n",
    "cv2.destroyAllWindows()"
   ],
   "metadata": {
    "collapsed": false,
    "ExecuteTime": {
     "end_time": "2024-06-21T08:04:54.441414Z",
     "start_time": "2024-06-21T08:04:14.124260Z"
    }
   },
   "id": "55722fc38000c337"
  },
  {
   "cell_type": "code",
   "execution_count": 9,
   "outputs": [],
   "source": [],
   "metadata": {
    "collapsed": false,
    "ExecuteTime": {
     "end_time": "2024-06-21T08:04:54.444547Z",
     "start_time": "2024-06-21T08:04:54.442553Z"
    }
   },
   "id": "3259d8b1a8e7f4dc"
  }
 ],
 "metadata": {
  "kernelspec": {
   "display_name": "Python 3",
   "language": "python",
   "name": "python3"
  },
  "language_info": {
   "codemirror_mode": {
    "name": "ipython",
    "version": 2
   },
   "file_extension": ".py",
   "mimetype": "text/x-python",
   "name": "python",
   "nbconvert_exporter": "python",
   "pygments_lexer": "ipython2",
   "version": "2.7.6"
  }
 },
 "nbformat": 4,
 "nbformat_minor": 5
}
